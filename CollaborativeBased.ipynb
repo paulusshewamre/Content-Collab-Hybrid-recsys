{
  "nbformat": 4,
  "nbformat_minor": 0,
  "metadata": {
    "colab": {
      "provenance": [],
      "authorship_tag": "ABX9TyMragpHZwKYy6peEGVvmZUC",
      "include_colab_link": true
    },
    "kernelspec": {
      "name": "python3",
      "display_name": "Python 3"
    },
    "language_info": {
      "name": "python"
    },
    "widgets": {
      "application/vnd.jupyter.widget-state+json": {
        "00e32954e5464bd498685816d433c75c": {
          "model_module": "@jupyter-widgets/controls",
          "model_name": "HBoxModel",
          "model_module_version": "1.5.0",
          "state": {
            "_dom_classes": [],
            "_model_module": "@jupyter-widgets/controls",
            "_model_module_version": "1.5.0",
            "_model_name": "HBoxModel",
            "_view_count": null,
            "_view_module": "@jupyter-widgets/controls",
            "_view_module_version": "1.5.0",
            "_view_name": "HBoxView",
            "box_style": "",
            "children": [
              "IPY_MODEL_86329970f1b84020828f8cc03a14afca",
              "IPY_MODEL_2c95b67955384f5483d58f65e89e79de",
              "IPY_MODEL_f1f641aa73fa4f4795bdd857c16dab80"
            ],
            "layout": "IPY_MODEL_5671392efe2c42178d324d80601a4a50"
          }
        },
        "86329970f1b84020828f8cc03a14afca": {
          "model_module": "@jupyter-widgets/controls",
          "model_name": "HTMLModel",
          "model_module_version": "1.5.0",
          "state": {
            "_dom_classes": [],
            "_model_module": "@jupyter-widgets/controls",
            "_model_module_version": "1.5.0",
            "_model_name": "HTMLModel",
            "_view_count": null,
            "_view_module": "@jupyter-widgets/controls",
            "_view_module_version": "1.5.0",
            "_view_name": "HTMLView",
            "description": "",
            "description_tooltip": null,
            "layout": "IPY_MODEL_50de4d24f38e46bfb110ae3d66ed02f3",
            "placeholder": "​",
            "style": "IPY_MODEL_7f709fd2117c46a99898127fa7d73420",
            "value": "100%"
          }
        },
        "2c95b67955384f5483d58f65e89e79de": {
          "model_module": "@jupyter-widgets/controls",
          "model_name": "FloatProgressModel",
          "model_module_version": "1.5.0",
          "state": {
            "_dom_classes": [],
            "_model_module": "@jupyter-widgets/controls",
            "_model_module_version": "1.5.0",
            "_model_name": "FloatProgressModel",
            "_view_count": null,
            "_view_module": "@jupyter-widgets/controls",
            "_view_module_version": "1.5.0",
            "_view_name": "ProgressView",
            "bar_style": "success",
            "description": "",
            "description_tooltip": null,
            "layout": "IPY_MODEL_38fb1eac70ae45a1b7d1e0564be1d2a9",
            "max": 20,
            "min": 0,
            "orientation": "horizontal",
            "style": "IPY_MODEL_5d2ce8fbe7dd43df9a48fd2553fe9130",
            "value": 20
          }
        },
        "f1f641aa73fa4f4795bdd857c16dab80": {
          "model_module": "@jupyter-widgets/controls",
          "model_name": "HTMLModel",
          "model_module_version": "1.5.0",
          "state": {
            "_dom_classes": [],
            "_model_module": "@jupyter-widgets/controls",
            "_model_module_version": "1.5.0",
            "_model_name": "HTMLModel",
            "_view_count": null,
            "_view_module": "@jupyter-widgets/controls",
            "_view_module_version": "1.5.0",
            "_view_name": "HTMLView",
            "description": "",
            "description_tooltip": null,
            "layout": "IPY_MODEL_09a24d4afb414e57a63b70351339e8b3",
            "placeholder": "​",
            "style": "IPY_MODEL_686c7180f2e9453d87f7161d378bebc6",
            "value": " 20/20 [00:01&lt;00:00, 11.63it/s]"
          }
        },
        "5671392efe2c42178d324d80601a4a50": {
          "model_module": "@jupyter-widgets/base",
          "model_name": "LayoutModel",
          "model_module_version": "1.2.0",
          "state": {
            "_model_module": "@jupyter-widgets/base",
            "_model_module_version": "1.2.0",
            "_model_name": "LayoutModel",
            "_view_count": null,
            "_view_module": "@jupyter-widgets/base",
            "_view_module_version": "1.2.0",
            "_view_name": "LayoutView",
            "align_content": null,
            "align_items": null,
            "align_self": null,
            "border": null,
            "bottom": null,
            "display": null,
            "flex": null,
            "flex_flow": null,
            "grid_area": null,
            "grid_auto_columns": null,
            "grid_auto_flow": null,
            "grid_auto_rows": null,
            "grid_column": null,
            "grid_gap": null,
            "grid_row": null,
            "grid_template_areas": null,
            "grid_template_columns": null,
            "grid_template_rows": null,
            "height": null,
            "justify_content": null,
            "justify_items": null,
            "left": null,
            "margin": null,
            "max_height": null,
            "max_width": null,
            "min_height": null,
            "min_width": null,
            "object_fit": null,
            "object_position": null,
            "order": null,
            "overflow": null,
            "overflow_x": null,
            "overflow_y": null,
            "padding": null,
            "right": null,
            "top": null,
            "visibility": null,
            "width": null
          }
        },
        "50de4d24f38e46bfb110ae3d66ed02f3": {
          "model_module": "@jupyter-widgets/base",
          "model_name": "LayoutModel",
          "model_module_version": "1.2.0",
          "state": {
            "_model_module": "@jupyter-widgets/base",
            "_model_module_version": "1.2.0",
            "_model_name": "LayoutModel",
            "_view_count": null,
            "_view_module": "@jupyter-widgets/base",
            "_view_module_version": "1.2.0",
            "_view_name": "LayoutView",
            "align_content": null,
            "align_items": null,
            "align_self": null,
            "border": null,
            "bottom": null,
            "display": null,
            "flex": null,
            "flex_flow": null,
            "grid_area": null,
            "grid_auto_columns": null,
            "grid_auto_flow": null,
            "grid_auto_rows": null,
            "grid_column": null,
            "grid_gap": null,
            "grid_row": null,
            "grid_template_areas": null,
            "grid_template_columns": null,
            "grid_template_rows": null,
            "height": null,
            "justify_content": null,
            "justify_items": null,
            "left": null,
            "margin": null,
            "max_height": null,
            "max_width": null,
            "min_height": null,
            "min_width": null,
            "object_fit": null,
            "object_position": null,
            "order": null,
            "overflow": null,
            "overflow_x": null,
            "overflow_y": null,
            "padding": null,
            "right": null,
            "top": null,
            "visibility": null,
            "width": null
          }
        },
        "7f709fd2117c46a99898127fa7d73420": {
          "model_module": "@jupyter-widgets/controls",
          "model_name": "DescriptionStyleModel",
          "model_module_version": "1.5.0",
          "state": {
            "_model_module": "@jupyter-widgets/controls",
            "_model_module_version": "1.5.0",
            "_model_name": "DescriptionStyleModel",
            "_view_count": null,
            "_view_module": "@jupyter-widgets/base",
            "_view_module_version": "1.2.0",
            "_view_name": "StyleView",
            "description_width": ""
          }
        },
        "38fb1eac70ae45a1b7d1e0564be1d2a9": {
          "model_module": "@jupyter-widgets/base",
          "model_name": "LayoutModel",
          "model_module_version": "1.2.0",
          "state": {
            "_model_module": "@jupyter-widgets/base",
            "_model_module_version": "1.2.0",
            "_model_name": "LayoutModel",
            "_view_count": null,
            "_view_module": "@jupyter-widgets/base",
            "_view_module_version": "1.2.0",
            "_view_name": "LayoutView",
            "align_content": null,
            "align_items": null,
            "align_self": null,
            "border": null,
            "bottom": null,
            "display": null,
            "flex": null,
            "flex_flow": null,
            "grid_area": null,
            "grid_auto_columns": null,
            "grid_auto_flow": null,
            "grid_auto_rows": null,
            "grid_column": null,
            "grid_gap": null,
            "grid_row": null,
            "grid_template_areas": null,
            "grid_template_columns": null,
            "grid_template_rows": null,
            "height": null,
            "justify_content": null,
            "justify_items": null,
            "left": null,
            "margin": null,
            "max_height": null,
            "max_width": null,
            "min_height": null,
            "min_width": null,
            "object_fit": null,
            "object_position": null,
            "order": null,
            "overflow": null,
            "overflow_x": null,
            "overflow_y": null,
            "padding": null,
            "right": null,
            "top": null,
            "visibility": null,
            "width": null
          }
        },
        "5d2ce8fbe7dd43df9a48fd2553fe9130": {
          "model_module": "@jupyter-widgets/controls",
          "model_name": "ProgressStyleModel",
          "model_module_version": "1.5.0",
          "state": {
            "_model_module": "@jupyter-widgets/controls",
            "_model_module_version": "1.5.0",
            "_model_name": "ProgressStyleModel",
            "_view_count": null,
            "_view_module": "@jupyter-widgets/base",
            "_view_module_version": "1.2.0",
            "_view_name": "StyleView",
            "bar_color": null,
            "description_width": ""
          }
        },
        "09a24d4afb414e57a63b70351339e8b3": {
          "model_module": "@jupyter-widgets/base",
          "model_name": "LayoutModel",
          "model_module_version": "1.2.0",
          "state": {
            "_model_module": "@jupyter-widgets/base",
            "_model_module_version": "1.2.0",
            "_model_name": "LayoutModel",
            "_view_count": null,
            "_view_module": "@jupyter-widgets/base",
            "_view_module_version": "1.2.0",
            "_view_name": "LayoutView",
            "align_content": null,
            "align_items": null,
            "align_self": null,
            "border": null,
            "bottom": null,
            "display": null,
            "flex": null,
            "flex_flow": null,
            "grid_area": null,
            "grid_auto_columns": null,
            "grid_auto_flow": null,
            "grid_auto_rows": null,
            "grid_column": null,
            "grid_gap": null,
            "grid_row": null,
            "grid_template_areas": null,
            "grid_template_columns": null,
            "grid_template_rows": null,
            "height": null,
            "justify_content": null,
            "justify_items": null,
            "left": null,
            "margin": null,
            "max_height": null,
            "max_width": null,
            "min_height": null,
            "min_width": null,
            "object_fit": null,
            "object_position": null,
            "order": null,
            "overflow": null,
            "overflow_x": null,
            "overflow_y": null,
            "padding": null,
            "right": null,
            "top": null,
            "visibility": null,
            "width": null
          }
        },
        "686c7180f2e9453d87f7161d378bebc6": {
          "model_module": "@jupyter-widgets/controls",
          "model_name": "DescriptionStyleModel",
          "model_module_version": "1.5.0",
          "state": {
            "_model_module": "@jupyter-widgets/controls",
            "_model_module_version": "1.5.0",
            "_model_name": "DescriptionStyleModel",
            "_view_count": null,
            "_view_module": "@jupyter-widgets/base",
            "_view_module_version": "1.2.0",
            "_view_name": "StyleView",
            "description_width": ""
          }
        }
      }
    }
  },
  "cells": [
    {
      "cell_type": "markdown",
      "metadata": {
        "id": "view-in-github",
        "colab_type": "text"
      },
      "source": [
        "<a href=\"https://colab.research.google.com/github/paulusshewamre/Content-Collab-Hybrid-recsys/blob/main/CollaborativeBased.ipynb\" target=\"_parent\"><img src=\"https://colab.research.google.com/assets/colab-badge.svg\" alt=\"Open In Colab\"/></a>"
      ]
    },
    {
      "cell_type": "code",
      "source": [
        "# Step 1: Install dependencies\n",
        "!pip install implicit kagglehub pandas scipy --quiet"
      ],
      "metadata": {
        "id": "37-L1SdAWvvc"
      },
      "execution_count": 42,
      "outputs": []
    },
    {
      "cell_type": "code",
      "source": [
        "# Step 2: Imports\n",
        "import pandas as pd\n",
        "from scipy.sparse import csr_matrix\n",
        "import implicit\n",
        "import kagglehub\n",
        "import os\n",
        "import numpy as np"
      ],
      "metadata": {
        "id": "Sf1t03-iWvaa"
      },
      "execution_count": 43,
      "outputs": []
    },
    {
      "cell_type": "code",
      "source": [
        "# Step 3: Download dataset from Kaggle\n",
        "path = kagglehub.dataset_download(\"rounakbanik/the-movies-dataset\")"
      ],
      "metadata": {
        "colab": {
          "base_uri": "https://localhost:8080/"
        },
        "id": "Mg9-7rk0W23n",
        "outputId": "07ecea82-980f-4cbd-f69b-e2c81f2bfa94"
      },
      "execution_count": 44,
      "outputs": [
        {
          "output_type": "stream",
          "name": "stdout",
          "text": [
            "Using Colab cache for faster access to the 'the-movies-dataset' dataset.\n"
          ]
        }
      ]
    },
    {
      "cell_type": "code",
      "source": [
        "# Step 4: Load ratings\n",
        "ratings_path = os.path.join(path, \"ratings_small.csv\")\n",
        "df_ratings = pd.read_csv(ratings_path)\n",
        "df_ratings = df_ratings[['userId', 'movieId', 'rating']]\n",
        "print(\"Sample ratings data:\")\n",
        "print(df_ratings.head())"
      ],
      "metadata": {
        "colab": {
          "base_uri": "https://localhost:8080/"
        },
        "id": "eZpDRQKBW20O",
        "outputId": "ecf78a64-ce4a-4e3a-df80-c77bd31caa9e"
      },
      "execution_count": 45,
      "outputs": [
        {
          "output_type": "stream",
          "name": "stdout",
          "text": [
            "Sample ratings data:\n",
            "   userId  movieId  rating\n",
            "0       1       31     2.5\n",
            "1       1     1029     3.0\n",
            "2       1     1061     3.0\n",
            "3       1     1129     2.0\n",
            "4       1     1172     4.0\n"
          ]
        }
      ]
    },
    {
      "cell_type": "code",
      "source": [
        "# Step 5: Load movies metadata\n",
        "movies_path = os.path.join(path, \"movies_metadata.csv\")\n",
        "df_movies = pd.read_csv(movies_path, low_memory=False)"
      ],
      "metadata": {
        "id": "xBTcqu_1W2xY"
      },
      "execution_count": 46,
      "outputs": []
    },
    {
      "cell_type": "code",
      "source": [
        "# Step 6: Use proper movie ID column\n",
        "if 'id' in df_movies.columns:\n",
        "    df_movies = df_movies[['id', 'title']].rename(columns={'id': 'movieId'})\n",
        "else:\n",
        "    df_movies = df_movies[['movieId', 'title']]"
      ],
      "metadata": {
        "id": "ZtgBeu66W2uw"
      },
      "execution_count": 47,
      "outputs": []
    },
    {
      "cell_type": "code",
      "source": [
        "# Step 7: Ensure movieId is integer and filter ratings\n",
        "df_movies['movieId'] = pd.to_numeric(df_movies['movieId'], errors='coerce')\n",
        "df_movies = df_movies.dropna(subset=['movieId'])\n",
        "df_movies['movieId'] = df_movies['movieId'].astype(int)\n",
        "\n",
        "df_ratings = df_ratings[df_ratings['movieId'].isin(df_movies['movieId'])]"
      ],
      "metadata": {
        "id": "ZvbouzB6XJKY"
      },
      "execution_count": 48,
      "outputs": []
    },
    {
      "cell_type": "code",
      "source": [
        "# Step 8: Map userId and movieId to zero-based indices\n",
        "user_map = {id: i for i, id in enumerate(df_ratings['userId'].unique())}\n",
        "movie_map = {id: i for i, id in enumerate(df_ratings['movieId'].unique())}\n",
        "df_ratings['user_index'] = df_ratings['userId'].map(user_map)\n",
        "df_ratings['movie_index'] = df_ratings['movieId'].map(movie_map)"
      ],
      "metadata": {
        "id": "dFpDbFARXJG7"
      },
      "execution_count": 49,
      "outputs": []
    },
    {
      "cell_type": "code",
      "source": [
        "# Step 9: Create item-user CSR matrix (items x users)\n",
        "item_user_csr = csr_matrix(\n",
        "    (df_ratings['rating'].astype(float), (df_ratings['movie_index'], df_ratings['user_index']))\n",
        ")\n"
      ],
      "metadata": {
        "id": "_CGFl8VhXPPF"
      },
      "execution_count": 50,
      "outputs": []
    },
    {
      "cell_type": "code",
      "source": [
        "# Step 10: Train ALS model\n",
        "alpha = 15\n",
        "data_conf = (item_user_csr * alpha).astype('double')\n",
        "model = implicit.als.AlternatingLeastSquares(factors=20, regularization=0.1, iterations=20)\n",
        "model.fit(data_conf)"
      ],
      "metadata": {
        "colab": {
          "base_uri": "https://localhost:8080/",
          "height": 49,
          "referenced_widgets": [
            "00e32954e5464bd498685816d433c75c",
            "86329970f1b84020828f8cc03a14afca",
            "2c95b67955384f5483d58f65e89e79de",
            "f1f641aa73fa4f4795bdd857c16dab80",
            "5671392efe2c42178d324d80601a4a50",
            "50de4d24f38e46bfb110ae3d66ed02f3",
            "7f709fd2117c46a99898127fa7d73420",
            "38fb1eac70ae45a1b7d1e0564be1d2a9",
            "5d2ce8fbe7dd43df9a48fd2553fe9130",
            "09a24d4afb414e57a63b70351339e8b3",
            "686c7180f2e9453d87f7161d378bebc6"
          ]
        },
        "id": "v2lk_R63XPLp",
        "outputId": "e8e4a92a-f6ec-49da-840b-104895f4a1ad"
      },
      "execution_count": 51,
      "outputs": [
        {
          "output_type": "display_data",
          "data": {
            "text/plain": [
              "  0%|          | 0/20 [00:00<?, ?it/s]"
            ],
            "application/vnd.jupyter.widget-view+json": {
              "version_major": 2,
              "version_minor": 0,
              "model_id": "00e32954e5464bd498685816d433c75c"
            }
          },
          "metadata": {}
        }
      ]
    },
    {
      "cell_type": "code",
      "source": [
        "# Step 11: Prepare single-row CSR matrix for a user\n",
        "user_idx = df_ratings['user_index'].iloc[0]  # example user\n",
        "user_data = df_ratings[df_ratings['user_index'] == user_idx]\n",
        "user_vector = csr_matrix(\n",
        "    (user_data['rating'].astype(float),\n",
        "     (np.zeros(len(user_data)), user_data['movie_index'])),\n",
        "    shape=(1, item_user_csr.shape[0])\n",
        ")"
      ],
      "metadata": {
        "id": "3BA6NcjFXmXP"
      },
      "execution_count": 52,
      "outputs": []
    },
    {
      "cell_type": "code",
      "source": [
        "# Step 12: Make recommendations\n",
        "recommended = model.recommend(\n",
        "    userid=0,             # row index in user_vector\n",
        "    user_items=user_vector,\n",
        "    N=5,\n",
        "    filter_already_liked_items=True\n",
        ")"
      ],
      "metadata": {
        "id": "pC6rh16pXaQo"
      },
      "execution_count": 53,
      "outputs": []
    },
    {
      "cell_type": "code",
      "source": [
        "# Step 13: Map recommendations back to movie IDs and titles\n",
        "movie_idx_reverse_map = {v: k for k, v in movie_map.items()}\n",
        "\n",
        "print(f\"\\nTop 5 recommendations for user {df_ratings['userId'].iloc[0]}:\")\n",
        "for rec in recommended:\n",
        "    movie_idx = int(rec[0])\n",
        "    score = rec[1]\n",
        "    movie_id = movie_idx_reverse_map[movie_idx]\n",
        "    title_row = df_movies[df_movies['movieId'] == movie_id]\n",
        "    if len(title_row) > 0:\n",
        "        title = title_row['title'].values[0]\n",
        "        print(f\"Movie: {title}, Score: {score:.2f}\")"
      ],
      "metadata": {
        "colab": {
          "base_uri": "https://localhost:8080/"
        },
        "id": "C4uXPLyOXaKF",
        "outputId": "844f7b99-7b0d-4239-fe29-1b90a59ad2ed"
      },
      "execution_count": 54,
      "outputs": [
        {
          "output_type": "stream",
          "name": "stdout",
          "text": [
            "\n",
            "Top 5 recommendations for user 1:\n",
            "Movie: The Elephant Man, Score: 286.00\n",
            "Movie: Greed, Score: 1.40\n"
          ]
        }
      ]
    }
  ]
}