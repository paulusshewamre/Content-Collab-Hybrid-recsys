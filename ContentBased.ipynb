{
  "nbformat": 4,
  "nbformat_minor": 0,
  "metadata": {
    "colab": {
      "provenance": [],
      "authorship_tag": "ABX9TyMA3DXlFC4xA8X/flUFroz+",
      "include_colab_link": true
    },
    "kernelspec": {
      "name": "python3",
      "display_name": "Python 3"
    },
    "language_info": {
      "name": "python"
    }
  },
  "cells": [
    {
      "cell_type": "markdown",
      "metadata": {
        "id": "view-in-github",
        "colab_type": "text"
      },
      "source": [
        "<a href=\"https://colab.research.google.com/github/paulusshewamre/content-collab-hybrid-recsys/blob/main/ContentBased.ipynb\" target=\"_parent\"><img src=\"https://colab.research.google.com/assets/colab-badge.svg\" alt=\"Open In Colab\"/></a>"
      ]
    },
    {
      "cell_type": "code",
      "source": [
        "import os\n",
        "import pandas as pd\n",
        "import kagglehub\n",
        "from sklearn.feature_extraction.text import TfidfVectorizer\n",
        "from sklearn.metrics.pairwise import cosine_similarity"
      ],
      "metadata": {
        "id": "f-pfayWQiWQh"
      },
      "execution_count": 5,
      "outputs": []
    },
    {
      "cell_type": "code",
      "source": [
        "# Download Netflix dataset\n",
        "path = kagglehub.dataset_download(\"shivamb/netflix-shows\")\n",
        "\n",
        "# Load the CSV file\n",
        "df = pd.read_csv(os.path.join(path, \"netflix_titles.csv\"))"
      ],
      "metadata": {
        "colab": {
          "base_uri": "https://localhost:8080/"
        },
        "id": "0YY4kjfRiWTG",
        "outputId": "27f59afd-4dac-4495-cce6-2113bea10a44"
      },
      "execution_count": 6,
      "outputs": [
        {
          "output_type": "stream",
          "name": "stdout",
          "text": [
            "Using Colab cache for faster access to the 'netflix-shows' dataset.\n"
          ]
        }
      ]
    },
    {
      "cell_type": "code",
      "source": [
        "# Keep only useful columns\n",
        "df = df[['title', 'listed_in']].dropna()"
      ],
      "metadata": {
        "id": "RCXo4IbtiWVi"
      },
      "execution_count": 7,
      "outputs": []
    },
    {
      "cell_type": "code",
      "source": [
        "# Vectorize genres/categories\n",
        "tfidf = TfidfVectorizer(stop_words='english')\n",
        "tfidf_matrix = tfidf.fit_transform(df['listed_in'])"
      ],
      "metadata": {
        "id": "HSaaC9wPimQV"
      },
      "execution_count": 9,
      "outputs": []
    },
    {
      "cell_type": "code",
      "source": [
        "# Compute cosine similarity\n",
        "cosine_sim = cosine_similarity(tfidf_matrix, tfidf_matrix)"
      ],
      "metadata": {
        "id": "Yplc35Roirhi"
      },
      "execution_count": 10,
      "outputs": []
    },
    {
      "cell_type": "code",
      "source": [
        "# Recommendation function\n",
        "def recommend_content(movie_title, top_n=5):\n",
        "    if movie_title not in df['title'].values:\n",
        "        return f\"'{movie_title}' not found in dataset.\"\n",
        "\n",
        "    idx = df[df['title'] == movie_title].index[0]\n",
        "    scores = list(enumerate(cosine_sim[idx]))\n",
        "    scores = sorted(scores, key=lambda x: x[1], reverse=True)\n",
        "\n",
        "    recommended = [df['title'][i[0]] for i in scores[1:top_n+1]]\n",
        "    return recommended"
      ],
      "metadata": {
        "id": "5_TjmQehiwOi"
      },
      "execution_count": 11,
      "outputs": []
    },
    {
      "cell_type": "code",
      "source": [
        "# Example\n",
        "print(\"Content-based:\", recommend_content(\"Inception\"))  # might not exist in Netflix\n",
        "print(\"Content-based:\", recommend_content(\"Breaking Bad\"))  # should work"
      ],
      "metadata": {
        "colab": {
          "base_uri": "https://localhost:8080/"
        },
        "id": "x0emc0Q2i0Y6",
        "outputId": "859dd0b0-b3fc-44aa-c82d-d1564026d293"
      },
      "execution_count": 12,
      "outputs": [
        {
          "output_type": "stream",
          "name": "stdout",
          "text": [
            "Content-based: ['Chappie', 'Green Lantern', 'Beowulf', 'Mortal Kombat', 'Star Trek']\n",
            "Content-based: ['Dare Me', 'The Blacklist', 'Ozark', 'Designated Survivor', 'Breaking Bad']\n"
          ]
        }
      ]
    },
    {
      "cell_type": "code",
      "source": [],
      "metadata": {
        "id": "iDvk008ilqey"
      },
      "execution_count": null,
      "outputs": []
    }
  ]
}