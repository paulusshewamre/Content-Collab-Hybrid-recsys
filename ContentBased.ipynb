{
  "nbformat": 4,
  "nbformat_minor": 0,
  "metadata": {
    "colab": {
      "provenance": [],
      "authorship_tag": "ABX9TyPTxZXPmwcQLDtWaLsPYCvr",
      "include_colab_link": true
    },
    "kernelspec": {
      "name": "python3",
      "display_name": "Python 3"
    },
    "language_info": {
      "name": "python"
    }
  },
  "cells": [
    {
      "cell_type": "markdown",
      "metadata": {
        "id": "view-in-github",
        "colab_type": "text"
      },
      "source": [
        "<a href=\"https://colab.research.google.com/github/paulusshewamre/content-collab-hybrid-recsys/blob/main/ContentBased.ipynb\" target=\"_parent\"><img src=\"https://colab.research.google.com/assets/colab-badge.svg\" alt=\"Open In Colab\"/></a>"
      ]
    },
    {
      "cell_type": "code",
      "source": [
        "import os\n",
        "import pandas as pd\n",
        "import kagglehub\n",
        "from sklearn.feature_extraction.text import TfidfVectorizer\n",
        "from sklearn.metrics.pairwise import cosine_similarity"
      ],
      "metadata": {
        "id": "f-pfayWQiWQh"
      },
      "execution_count": 15,
      "outputs": []
    },
    {
      "cell_type": "code",
      "source": [
        "# Download Netflix dataset\n",
        "path = kagglehub.dataset_download(\"shivamb/netflix-shows\")\n",
        "\n",
        "# Load the CSV file\n",
        "df = pd.read_csv(os.path.join(path, \"netflix_titles.csv\"))"
      ],
      "metadata": {
        "colab": {
          "base_uri": "https://localhost:8080/"
        },
        "id": "0YY4kjfRiWTG",
        "outputId": "adc16cb6-9869-4bcf-d7dd-8e0e29cc4c1a"
      },
      "execution_count": 16,
      "outputs": [
        {
          "output_type": "stream",
          "name": "stdout",
          "text": [
            "Using Colab cache for faster access to the 'netflix-shows' dataset.\n"
          ]
        }
      ]
    },
    {
      "cell_type": "code",
      "source": [
        "# Step 3: Keep useful columns\n",
        "df = df[['title', 'listed_in', 'description']].dropna()"
      ],
      "metadata": {
        "id": "x-LE_SH1olwG"
      },
      "execution_count": 17,
      "outputs": []
    },
    {
      "cell_type": "code",
      "source": [
        "# Step 4: Combine genres + description into one text field\n",
        "df['content'] = df['listed_in'] + \" \" + df['description']"
      ],
      "metadata": {
        "id": "jBzhDZz0omXK"
      },
      "execution_count": 18,
      "outputs": []
    },
    {
      "cell_type": "code",
      "source": [
        "# Step 5: Vectorize combined content\n",
        "tfidf = TfidfVectorizer(stop_words='english')\n",
        "tfidf_matrix = tfidf.fit_transform(df['content'])"
      ],
      "metadata": {
        "id": "0PEgpzSMowas"
      },
      "execution_count": 19,
      "outputs": []
    },
    {
      "cell_type": "code",
      "source": [
        "# Step 6: Compute cosine similarity\n",
        "cosine_sim = cosine_similarity(tfidf_matrix, tfidf_matrix)"
      ],
      "metadata": {
        "id": "Hb3ud9NRo1b5"
      },
      "execution_count": 20,
      "outputs": []
    },
    {
      "cell_type": "code",
      "source": [
        "# Step 7: Recommendation function\n",
        "def recommend_content(movie_title, top_n=5):\n",
        "    if movie_title not in df['title'].values:\n",
        "        return f\"'{movie_title}' not found in dataset.\"\n",
        "\n",
        "    idx = df[df['title'] == movie_title].index[0]\n",
        "    scores = list(enumerate(cosine_sim[idx]))\n",
        "    scores = sorted(scores, key=lambda x: x[1], reverse=True)\n",
        "\n",
        "    recommended = [df['title'][i[0]] for i in scores[1:top_n+1]]\n",
        "    return recommended"
      ],
      "metadata": {
        "id": "WDlY4tweo6FC"
      },
      "execution_count": 21,
      "outputs": []
    },
    {
      "cell_type": "code",
      "source": [
        "# 🔹 Examples\n",
        "print(\"Recommendations for 'Breaking Bad':\", recommend_content(\"Breaking Bad\"))\n",
        "print(\"Recommendations for 'Narcos':\", recommend_content(\"Narcos\"))\n",
        "print(\"Recommendations for 'Friends':\", recommend_content(\"Friends\"))"
      ],
      "metadata": {
        "colab": {
          "base_uri": "https://localhost:8080/"
        },
        "id": "OE1a8kkMo_EV",
        "outputId": "5c33bcf8-ea35-474e-d125-a0457763a0b5"
      },
      "execution_count": 22,
      "outputs": [
        {
          "output_type": "stream",
          "name": "stdout",
          "text": [
            "Recommendations for 'Breaking Bad': ['Extracurricular', 'Iron Ladies', 'Have You Ever Fallen in Love, Miss Jiang?', 'Sparta', 'The Mess You Leave Behind']\n",
            "Recommendations for 'Narcos': ['Miss Dynamite', 'Narcos: Mexico', 'El Cartel 2', 'El Chapo', 'Ganglands']\n",
            "Recommendations for 'Friends': ['Episodes', \"Dad's Army\", 'Trailer Park Boys', 'BoJack Horseman', 'Single Ladies Senior']\n"
          ]
        }
      ]
    },
    {
      "cell_type": "code",
      "source": [],
      "metadata": {
        "id": "2sz_pPsvpEUY"
      },
      "execution_count": null,
      "outputs": []
    }
  ]
}